{
 "cells": [
  {
   "cell_type": "code",
   "execution_count": 1,
   "id": "6483d27b",
   "metadata": {},
   "outputs": [],
   "source": [
    "import warnings\n",
    "warnings.filterwarnings('ignore')"
   ]
  },
  {
   "cell_type": "code",
   "execution_count": 12,
   "id": "d7fcee5f",
   "metadata": {},
   "outputs": [],
   "source": [
    "import numpy as np\n",
    "import pandas as pd\n",
    "\n",
    "import matplotlib.pyplot as plt\n",
    "import seaborn as sns"
   ]
  },
  {
   "cell_type": "code",
   "execution_count": 2,
   "id": "c53a4bd0",
   "metadata": {},
   "outputs": [],
   "source": [
    "import os\n",
    "import shutil"
   ]
  },
  {
   "cell_type": "markdown",
   "id": "efbd0f5a",
   "metadata": {},
   "source": [
    "# Beat Sounds"
   ]
  },
  {
   "cell_type": "code",
   "execution_count": 4,
   "id": "261ee1c1",
   "metadata": {},
   "outputs": [],
   "source": [
    "# Define paths\n",
    "multi_class_path = \"Dataset\"  # Path to multi-class dataset\n",
    "binary_class_path = \"sounds\"  # New binary dataset path"
   ]
  },
  {
   "cell_type": "code",
   "execution_count": 5,
   "id": "08721437",
   "metadata": {},
   "outputs": [],
   "source": [
    "# Define category mapping\n",
    "other_classes = [\"Other\"]  \n",
    "heart_classes = [\"Normal\", \"MS\", \"MR\", \"MD\", \"AS\", \"AR\"]  "
   ]
  },
  {
   "cell_type": "code",
   "execution_count": 6,
   "id": "cd13291d",
   "metadata": {},
   "outputs": [],
   "source": [
    "# Create binary classification folders\n",
    "os.makedirs(os.path.join(binary_class_path, \"OtherBeat\"), exist_ok=True)\n",
    "os.makedirs(os.path.join(binary_class_path, \"HeartBeat\"), exist_ok=True)"
   ]
  },
  {
   "cell_type": "code",
   "execution_count": 88,
   "id": "6e128f4f",
   "metadata": {},
   "outputs": [],
   "source": [
    "# Function to copy files to binary folders\n",
    "def copy_files(class_list, binary_label):\n",
    "    for class_name in class_list:\n",
    "        source_folder = os.path.join(multi_class_path, class_name)\n",
    "        destination_folder = os.path.join(binary_class_path, binary_label)\n",
    "        \n",
    "        if os.path.exists(source_folder):\n",
    "            for file_name in os.listdir(source_folder):\n",
    "                src_path = os.path.join(source_folder, file_name)\n",
    "                dst_path = os.path.join(destination_folder, file_name)\n",
    "                shutil.copy(src_path, dst_path)\n",
    "            print(f\"Copied {class_name} -> {binary_label}\")"
   ]
  },
  {
   "cell_type": "code",
   "execution_count": 9,
   "id": "36cae678",
   "metadata": {},
   "outputs": [
    {
     "name": "stdout",
     "output_type": "stream",
     "text": [
      "Copied Other -> OtherBeat\n"
     ]
    }
   ],
   "source": [
    "copy_files(other_classes, \"OtherBeat\")"
   ]
  },
  {
   "cell_type": "code",
   "execution_count": 10,
   "id": "bbdd91b5",
   "metadata": {},
   "outputs": [
    {
     "name": "stdout",
     "output_type": "stream",
     "text": [
      "Copied Normal -> HeartBeat\n",
      "Copied MS -> HeartBeat\n",
      "Copied MR -> HeartBeat\n",
      "Copied MD -> HeartBeat\n",
      "Copied AS -> HeartBeat\n",
      "Copied AR -> HeartBeat\n"
     ]
    }
   ],
   "source": [
    "copy_files(heart_classes, \"HeartBeat\")"
   ]
  },
  {
   "cell_type": "markdown",
   "id": "fdf4861a",
   "metadata": {},
   "source": [
    "# Heart-Beat Sounds"
   ]
  },
  {
   "cell_type": "code",
   "execution_count": 11,
   "id": "c7d49c82",
   "metadata": {},
   "outputs": [],
   "source": [
    "# Define paths\n",
    "multi_class_path = \"Dataset\"  # Path to multi-class dataset\n",
    "binary_class_path = \"HeartBeats\"  # New binary dataset path"
   ]
  },
  {
   "cell_type": "code",
   "execution_count": 12,
   "id": "27a9eae9",
   "metadata": {},
   "outputs": [],
   "source": [
    "# Define category mapping\n",
    "normal_classes = [\"Normal\"]  # Classes considered \"Normal\"\n",
    "abnormal_classes = [\"MS\", \"MR\", \"MD\", \"AS\", \"AR\"]  # Classes considered \"Abnormal\""
   ]
  },
  {
   "cell_type": "code",
   "execution_count": 13,
   "id": "405790b7",
   "metadata": {},
   "outputs": [],
   "source": [
    "# Create binary classification folders\n",
    "os.makedirs(os.path.join(binary_class_path, \"Normal\"), exist_ok=True)\n",
    "os.makedirs(os.path.join(binary_class_path, \"Abnormal\"), exist_ok=True)"
   ]
  },
  {
   "cell_type": "code",
   "execution_count": 14,
   "id": "5ba25cad",
   "metadata": {},
   "outputs": [
    {
     "name": "stdout",
     "output_type": "stream",
     "text": [
      "Copied Normal -> Normal\n"
     ]
    }
   ],
   "source": [
    "copy_files(normal_classes, \"Normal\")"
   ]
  },
  {
   "cell_type": "code",
   "execution_count": 15,
   "id": "7f367fb0",
   "metadata": {},
   "outputs": [
    {
     "name": "stdout",
     "output_type": "stream",
     "text": [
      "Copied MS -> Abnormal\n",
      "Copied MR -> Abnormal\n",
      "Copied MD -> Abnormal\n",
      "Copied AS -> Abnormal\n",
      "Copied AR -> Abnormal\n"
     ]
    }
   ],
   "source": [
    "copy_files(abnormal_classes, \"Abnormal\")"
   ]
  },
  {
   "cell_type": "markdown",
   "id": "a0367b3a",
   "metadata": {},
   "source": [
    "# Multi-Heart Beat Sounds"
   ]
  },
  {
   "cell_type": "code",
   "execution_count": 90,
   "id": "7b64c418",
   "metadata": {},
   "outputs": [],
   "source": [
    "source_folders = {\n",
    "    \"Folder1\": \"Dataset/AR\",  \n",
    "    \"Folder2\": \"Dataset/AS\",\n",
    "    \"Folder3\": \"Dataset/MD\",\n",
    "    \"Folder4\": \"Dataset/MR\",\n",
    "    \"Folder5\": \"Dataset/MS\",\n",
    "}"
   ]
  },
  {
   "cell_type": "code",
   "execution_count": 91,
   "id": "ed16a31e",
   "metadata": {},
   "outputs": [],
   "source": [
    "destination_folders = {\n",
    "    \"NewFolder1\": \"MultiHeartBeats/AR\",\n",
    "    \"NewFolder2\": \"MultiHeartBeats/AS\",\n",
    "    \"NewFolder3\": \"MultiHeartBeats/MD\",\n",
    "    \"NewFolder4\": \"MultiHeartBeats/MR\",\n",
    "    \"NewFolder5\": \"MultiHeartBeats/MS\",\n",
    "}"
   ]
  },
  {
   "cell_type": "code",
   "execution_count": 92,
   "id": "cd3383b6",
   "metadata": {},
   "outputs": [],
   "source": [
    "# Ensure destination folders exist\n",
    "for dest in destination_folders.values():\n",
    "    os.makedirs(dest, exist_ok=True)"
   ]
  },
  {
   "cell_type": "code",
   "execution_count": 93,
   "id": "d315ac25",
   "metadata": {},
   "outputs": [],
   "source": [
    "# Function to copy files from source to destination\n",
    "def copy_folder(src, dst):\n",
    "    if os.path.exists(src):\n",
    "        for file_name in os.listdir(src):\n",
    "            src_path = os.path.join(src, file_name)\n",
    "            dst_path = os.path.join(dst, file_name)\n",
    "            shutil.copy(src_path, dst_path)\n",
    "        print(f\"Copied files from {src} to {dst}\")"
   ]
  },
  {
   "cell_type": "code",
   "execution_count": 94,
   "id": "5ce862e0",
   "metadata": {},
   "outputs": [
    {
     "name": "stdout",
     "output_type": "stream",
     "text": [
      "Copied files from Dataset/AR to MultiHeartBeats/AR\n",
      "Copied files from Dataset/AS to MultiHeartBeats/AS\n",
      "Copied files from Dataset/MD to MultiHeartBeats/MD\n",
      "Copied files from Dataset/MR to MultiHeartBeats/MR\n",
      "Copied files from Dataset/MS to MultiHeartBeats/MS\n"
     ]
    }
   ],
   "source": [
    "# Copy files from Folder1 → NewFolder1\n",
    "copy_folder(source_folders[\"Folder1\"], destination_folders[\"NewFolder1\"])\n",
    "copy_folder(source_folders[\"Folder2\"], destination_folders[\"NewFolder2\"])\n",
    "copy_folder(source_folders[\"Folder3\"], destination_folders[\"NewFolder3\"])\n",
    "copy_folder(source_folders[\"Folder4\"], destination_folders[\"NewFolder4\"])\n",
    "copy_folder(source_folders[\"Folder5\"], destination_folders[\"NewFolder5\"])"
   ]
  },
  {
   "cell_type": "markdown",
   "id": "7f822d59",
   "metadata": {},
   "source": [
    "# Classification"
   ]
  },
  {
   "cell_type": "markdown",
   "id": "8d4e5655",
   "metadata": {},
   "source": [
    "# Beat Sounds"
   ]
  },
  {
   "cell_type": "code",
   "execution_count": 126,
   "id": "de61b728",
   "metadata": {},
   "outputs": [],
   "source": [
    "import librosa\n",
    "import os\n",
    "import joblib"
   ]
  },
  {
   "cell_type": "code",
   "execution_count": 127,
   "id": "7c363c18",
   "metadata": {},
   "outputs": [],
   "source": [
    "# Feature extraction function\n",
    "def extract_features(file_path):\n",
    "    y, sr = librosa.load(file_path, sr=None)  # Load audio\n",
    "    mfccs = np.mean(librosa.feature.mfcc(y=y, sr=sr, n_mfcc=13).T, axis=0)\n",
    "    chroma = np.mean(librosa.feature.chroma_stft(y=y, sr=sr).T, axis=0)\n",
    "    mel = np.mean(librosa.feature.melspectrogram(y=y, sr=sr).T, axis=0)\n",
    "    zcr = np.mean(librosa.feature.zero_crossing_rate(y).T, axis=0)\n",
    "    rms = np.mean(librosa.feature.rms(y=y).T, axis=0)\n",
    "\n",
    "    return np.hstack([mfccs, chroma, mel, zcr, rms])"
   ]
  },
  {
   "cell_type": "code",
   "execution_count": 128,
   "id": "afb63fae",
   "metadata": {},
   "outputs": [],
   "source": [
    "# Load dataset and extract features\n",
    "dataset_path = \"sounds\""
   ]
  },
  {
   "cell_type": "code",
   "execution_count": 129,
   "id": "28f79343",
   "metadata": {},
   "outputs": [],
   "source": [
    "labels = []\n",
    "features = []"
   ]
  },
  {
   "cell_type": "code",
   "execution_count": 130,
   "id": "0b7d1675",
   "metadata": {},
   "outputs": [],
   "source": [
    "for label in os.listdir(dataset_path):\n",
    "    class_path = os.path.join(dataset_path, label)\n",
    "    if os.path.isdir(class_path):\n",
    "        for file in os.listdir(class_path):\n",
    "            file_path = os.path.join(class_path, file)\n",
    "            feature_vector = extract_features(file_path)\n",
    "            features.append(feature_vector)\n",
    "            labels.append(label)"
   ]
  },
  {
   "cell_type": "code",
   "execution_count": 131,
   "id": "6c9bd044",
   "metadata": {},
   "outputs": [],
   "source": [
    "# Convert to DataFrame\n",
    "df = pd.DataFrame(features)\n",
    "df['label'] = labels"
   ]
  },
  {
   "cell_type": "code",
   "execution_count": 132,
   "id": "e391b930",
   "metadata": {},
   "outputs": [
    {
     "name": "stdout",
     "output_type": "stream",
     "text": [
      "<class 'pandas.core.frame.DataFrame'>\n",
      "RangeIndex: 4753 entries, 0 to 4752\n",
      "Columns: 156 entries, 0 to label\n",
      "dtypes: float64(155), object(1)\n",
      "memory usage: 5.7+ MB\n"
     ]
    }
   ],
   "source": [
    "df.info()"
   ]
  },
  {
   "cell_type": "code",
   "execution_count": 133,
   "id": "09b943c3",
   "metadata": {},
   "outputs": [
    {
     "data": {
      "image/png": "[encoded data removed]",
      "text/plain": [
       "<Figure size 640x480 with 1 Axes>"
      ]
     },
     "metadata": {},
     "output_type": "display_data"
    }
   ],
   "source": [
    "sns.countplot(x='label',data=df, palette='hls')\n",
    "plt.show()\n",
    "#plt.savefig('count_plot') mal: the nodule malignancy, 0: benign, 1: malignant"
   ]
  },
  {
   "cell_type": "code",
   "execution_count": 134,
   "id": "6ef7452e",
   "metadata": {},
   "outputs": [],
   "source": [
    "from sklearn.preprocessing import LabelEncoder\n",
    "encoder = LabelEncoder()\n",
    "df['label'] = encoder.fit_transform(df['label'])"
   ]
  },
  {
   "cell_type": "code",
   "execution_count": 135,
   "id": "417683ea",
   "metadata": {},
   "outputs": [],
   "source": [
    "X = df.drop(columns=['label']).values\n",
    "y = df['label'].values"
   ]
  },
  {
   "cell_type": "code",
   "execution_count": 136,
   "id": "aa96b56c",
   "metadata": {},
   "outputs": [],
   "source": [
    "from sklearn.model_selection import train_test_split\n",
    "\n",
    "X_train, X_valid, y_train, y_valid = train_test_split(X, y, test_size = 0.20, random_state = 42)"
   ]
  },
  {
   "cell_type": "code",
   "execution_count": 22,
   "id": "51d25f08",
   "metadata": {},
   "outputs": [],
   "source": [
    "from sklearn.metrics import accuracy_score # for calculating accuracy of model\n",
    "from sklearn.metrics import precision_score\n",
    "from sklearn.metrics import recall_score\n",
    "from sklearn.metrics import f1_score\n",
    "from sklearn.model_selection import train_test_split, cross_val_score"
   ]
  },
  {
   "cell_type": "code",
   "execution_count": 23,
   "id": "fc439090",
   "metadata": {},
   "outputs": [],
   "source": [
    "ML_Model = []\n",
    "accuracy = []\n",
    "precision = []\n",
    "recall = []\n",
    "f1score = []\n",
    "\n",
    "#function to call for storing the results\n",
    "def storeResults(model, a,b,c,d):\n",
    "    ML_Model.append(model)\n",
    "    accuracy.append(round(a, 3))\n",
    "    precision.append(round(b, 3))\n",
    "    recall.append(round(c, 3))\n",
    "    f1score.append(round(d, 3))"
   ]
  },
  {
   "cell_type": "markdown",
   "id": "5bb2affe",
   "metadata": {},
   "source": [
    "# SVM"
   ]
  },
  {
   "cell_type": "code",
   "execution_count": 24,
   "id": "fba52bdd",
   "metadata": {},
   "outputs": [],
   "source": [
    "from sklearn import svm\n",
    "svc = svm.SVC(probability=True, C=1.0, kernel = \"rbf\", gamma=0.1)\n",
    "svc.fit(X_train, y_train)\n",
    "\n",
    "y_pred    = svc.predict(X_valid)\n",
    "\n",
    "svc_acc = accuracy_score(y_pred, y_valid)\n",
    "svc_prec = precision_score(y_pred, y_valid,average='weighted')\n",
    "svc_f1 = f1_score(y_pred, y_valid,average='weighted')\n",
    "svc_rec = recall_score(y_pred, y_valid,average='weighted')"
   ]
  },
  {
   "cell_type": "code",
   "execution_count": 26,
   "id": "2248659c",
   "metadata": {},
   "outputs": [],
   "source": [
    "storeResults('SVM',svc_acc,svc_prec,svc_rec,svc_f1)"
   ]
  },
  {
   "cell_type": "markdown",
   "id": "e1a38388",
   "metadata": {},
   "source": [
    "# XGBoost"
   ]
  },
  {
   "cell_type": "code",
   "execution_count": 27,
   "id": "d4fc22dc",
   "metadata": {},
   "outputs": [],
   "source": [
    "from xgboost import XGBClassifier\n",
    "bo_xgb = XGBClassifier()\n",
    "\n",
    "bo_xgb.fit(X_train, y_train)\n",
    "\n",
    "y_pred    = bo_xgb.predict(X_valid)\n",
    "\n",
    "xgb_acc = accuracy_score(y_pred, y_valid)\n",
    "xgb_prec = precision_score(y_pred, y_valid,average='weighted')\n",
    "xgb_f1 = f1_score(y_pred, y_valid,average='weighted')\n",
    "xgb_rec = recall_score(y_pred, y_valid,average='weighted')"
   ]
  },
  {
   "cell_type": "code",
   "execution_count": 28,
   "id": "9b40b01c",
   "metadata": {},
   "outputs": [],
   "source": [
    "storeResults('XGBoost',xgb_acc,xgb_prec,xgb_rec,xgb_f1)"
   ]
  },
  {
   "cell_type": "markdown",
   "id": "25c17712",
   "metadata": {},
   "source": [
    "# MLP"
   ]
  },
  {
   "cell_type": "code",
   "execution_count": 29,
   "id": "6d1ed732",
   "metadata": {},
   "outputs": [],
   "source": [
    "from sklearn.neural_network import MLPClassifier\n",
    "mlp = MLPClassifier(hidden_layer_sizes=(150,100,50),\n",
    "                        max_iter = 300,activation = 'relu',\n",
    "                        solver = 'adam')\n",
    "mlp.fit(X_train, y_train)\n",
    "\n",
    "y_pred    = mlp.predict(X_valid)\n",
    "\n",
    "mlp_acc = accuracy_score(y_pred, y_valid)\n",
    "mlp_prec = precision_score(y_pred, y_valid,average='weighted')\n",
    "mlp_rec = recall_score(y_pred, y_valid,average='weighted')\n",
    "mlp_f1 = f1_score(y_pred, y_valid,average='weighted')"
   ]
  },
  {
   "cell_type": "code",
   "execution_count": 30,
   "id": "634cb481",
   "metadata": {},
   "outputs": [],
   "source": [
    "storeResults('MLP',mlp_acc,mlp_prec,mlp_rec,mlp_f1)"
   ]
  },
  {
   "cell_type": "markdown",
   "id": "c3e76751",
   "metadata": {},
   "source": [
    "# LightGBM"
   ]
  },
  {
   "cell_type": "code",
   "execution_count": 32,
   "id": "be06f9ce",
   "metadata": {},
   "outputs": [
    {
     "name": "stdout",
     "output_type": "stream",
     "text": [
      "[LightGBM] [Info] Number of positive: 764, number of negative: 3038\n",
      "[LightGBM] [Info] Auto-choosing col-wise multi-threading, the overhead of testing was 0.005103 seconds.\n",
      "You can set `force_col_wise=true` to remove the overhead.\n",
      "[LightGBM] [Info] Total Bins 39525\n",
      "[LightGBM] [Info] Number of data points in the train set: 3802, number of used features: 155\n",
      "[LightGBM] [Info] [binary:BoostFromScore]: pavg=0.200947 -> initscore=-1.380387\n",
      "[LightGBM] [Info] Start training from score -1.380387\n",
      "[LightGBM] [Warning] No further splits with positive gain, best gain: -inf\n",
      "[LightGBM] [Warning] No further splits with positive gain, best gain: -inf\n",
      "[LightGBM] [Warning] No further splits with positive gain, best gain: -inf\n"
     ]
    }
   ],
   "source": [
    "import lightgbm as lgb\n",
    "clf = lgb.LGBMClassifier()\n",
    "\n",
    "clf.fit(X_train, y_train)\n",
    "\n",
    "y_pred = clf.predict(X_valid)\n",
    "\n",
    "lgb_acc = accuracy_score(y_pred, y_valid)\n",
    "lgb_prec = precision_score(y_pred, y_valid,average='weighted')\n",
    "lgb_f1 = f1_score(y_pred, y_valid,average='weighted')\n",
    "lgb_rec = recall_score(y_pred, y_valid,average='weighted')"
   ]
  },
  {
   "cell_type": "code",
   "execution_count": 33,
   "id": "696831d6",
   "metadata": {},
   "outputs": [],
   "source": [
    "storeResults('LightGBM',lgb_acc,lgb_prec,lgb_rec,lgb_f1)"
   ]
  },
  {
   "cell_type": "markdown",
   "id": "b14cb2d7",
   "metadata": {},
   "source": [
    "# Voting Classifier"
   ]
  },
  {
   "cell_type": "code",
   "execution_count": 34,
   "id": "a6d30fff",
   "metadata": {},
   "outputs": [],
   "source": [
    "from sklearn.ensemble import RandomForestClassifier\n",
    "from sklearn.ensemble import VotingClassifier, BaggingClassifier, AdaBoostClassifier\n",
    "from sklearn.tree import DecisionTreeClassifier"
   ]
  },
  {
   "cell_type": "code",
   "execution_count": 137,
   "id": "f194b032",
   "metadata": {},
   "outputs": [],
   "source": [
    "bdt = AdaBoostClassifier(\n",
    "    DecisionTreeClassifier(max_depth=1), algorithm=\"SAMME\", n_estimators=200\n",
    ")\n",
    "\n",
    "brf =  BaggingClassifier(MLPClassifier(random_state=1, max_iter=300))\n",
    "\n",
    "ext = VotingClassifier(estimators=[('BoostDT', bdt),('BaggingMLP', brf)], voting='soft')\n",
    "\n",
    "ext.fit(X_train, y_train)\n",
    "\n",
    "y_pred = ext.predict(X_valid)\n",
    "\n",
    "ext_acc = accuracy_score(y_pred, y_valid)\n",
    "ext_prec = precision_score(y_pred, y_valid,average='weighted')\n",
    "ext_rec = recall_score(y_pred, y_valid,average='weighted')\n",
    "ext_f1 = f1_score(y_pred, y_valid,average='weighted')"
   ]
  },
  {
   "cell_type": "code",
   "execution_count": 37,
   "id": "08731086",
   "metadata": {},
   "outputs": [],
   "source": [
    "storeResults('Voting Classifier',ext_acc,ext_prec,ext_rec,ext_f1)"
   ]
  },
  {
   "cell_type": "markdown",
   "id": "28f0a8eb",
   "metadata": {},
   "source": [
    "# Comparison"
   ]
  },
  {
   "cell_type": "code",
   "execution_count": 38,
   "id": "b05eb52e",
   "metadata": {},
   "outputs": [],
   "source": [
    "#creating dataframe\n",
    "result = pd.DataFrame({ 'ML Model' : ML_Model,\n",
    "                        'Accuracy' : accuracy,\n",
    "                       'Precision': precision,\n",
    "                       'Recall'   : recall, \n",
    "                       'F1_score' : f1score \n",
    "                      }) "
   ]
  },
  {
   "cell_type": "code",
   "execution_count": 39,
   "id": "53b64cf8",
   "metadata": {},
   "outputs": [
    {
     "data": {
      "text/html": [
       "<div>\n",
       "<style scoped>\n",
       "    .dataframe tbody tr th:only-of-type {\n",
       "        vertical-align: middle;\n",
       "    }\n",
       "\n",
       "    .dataframe tbody tr th {\n",
       "        vertical-align: top;\n",
       "    }\n",
       "\n",
       "    .dataframe thead th {\n",
       "        text-align: right;\n",
       "    }\n",
       "</style>\n",
       "<table border=\"1\" class=\"dataframe\">\n",
       "  <thead>\n",
       "    <tr style=\"text-align: right;\">\n",
       "      <th></th>\n",
       "      <th>ML Model</th>\n",
       "      <th>Accuracy</th>\n",
       "      <th>Precision</th>\n",
       "      <th>Recall</th>\n",
       "      <th>F1_score</th>\n",
       "    </tr>\n",
       "  </thead>\n",
       "  <tbody>\n",
       "    <tr>\n",
       "      <th>0</th>\n",
       "      <td>SVM</td>\n",
       "      <td>0.844</td>\n",
       "      <td>0.971</td>\n",
       "      <td>0.844</td>\n",
       "      <td>0.891</td>\n",
       "    </tr>\n",
       "    <tr>\n",
       "      <th>1</th>\n",
       "      <td>XGBoost</td>\n",
       "      <td>0.998</td>\n",
       "      <td>0.998</td>\n",
       "      <td>0.998</td>\n",
       "      <td>0.998</td>\n",
       "    </tr>\n",
       "    <tr>\n",
       "      <th>2</th>\n",
       "      <td>MLP</td>\n",
       "      <td>0.993</td>\n",
       "      <td>0.993</td>\n",
       "      <td>0.993</td>\n",
       "      <td>0.993</td>\n",
       "    </tr>\n",
       "    <tr>\n",
       "      <th>3</th>\n",
       "      <td>LightGBM</td>\n",
       "      <td>0.997</td>\n",
       "      <td>0.997</td>\n",
       "      <td>0.997</td>\n",
       "      <td>0.997</td>\n",
       "    </tr>\n",
       "    <tr>\n",
       "      <th>4</th>\n",
       "      <td>Voting Classifier</td>\n",
       "      <td>0.999</td>\n",
       "      <td>0.999</td>\n",
       "      <td>0.999</td>\n",
       "      <td>0.999</td>\n",
       "    </tr>\n",
       "  </tbody>\n",
       "</table>\n",
       "</div>"
      ],
      "text/plain": [
       "            ML Model  Accuracy  Precision  Recall  F1_score\n",
       "0                SVM     0.844      0.971   0.844     0.891\n",
       "1            XGBoost     0.998      0.998   0.998     0.998\n",
       "2                MLP     0.993      0.993   0.993     0.993\n",
       "3           LightGBM     0.997      0.997   0.997     0.997\n",
       "4  Voting Classifier     0.999      0.999   0.999     0.999"
      ]
     },
     "execution_count": 39,
     "metadata": {},
     "output_type": "execute_result"
    }
   ],
   "source": [
    "result"
   ]
  },
  {
   "cell_type": "markdown",
   "id": "92a17a83",
   "metadata": {},
   "source": [
    "# Modelling"
   ]
  },
  {
   "cell_type": "code",
   "execution_count": 140,
   "id": "27b1dad7",
   "metadata": {},
   "outputs": [
    {
     "data": {
      "text/plain": [
       "['models/model_beats.sav']"
      ]
     },
     "execution_count": 140,
     "metadata": {},
     "output_type": "execute_result"
    }
   ],
   "source": [
    "import joblib\n",
    "filename = 'models/model_beats.sav'\n",
    "joblib.dump(ext, filename)"
   ]
  },
  {
   "cell_type": "code",
   "execution_count": 141,
   "id": "314a6d57",
   "metadata": {},
   "outputs": [
    {
     "data": {
      "text/plain": [
       "['models/beats_encoder.pkl']"
      ]
     },
     "execution_count": 141,
     "metadata": {},
     "output_type": "execute_result"
    }
   ],
   "source": [
    "joblib.dump(encoder, \"models/beats_encoder.pkl\")"
   ]
  },
  {
   "cell_type": "markdown",
   "id": "c0c79013",
   "metadata": {},
   "source": [
    "# Graph"
   ]
  },
  {
   "cell_type": "code",
   "execution_count": 43,
   "id": "60e85273",
   "metadata": {},
   "outputs": [],
   "source": [
    "classifier = ML_Model\n",
    "y_pos = np.arange(len(classifier))"
   ]
  },
  {
   "cell_type": "markdown",
   "id": "47e3eff6",
   "metadata": {},
   "source": [
    "# Accuracy"
   ]
  },
  {
   "cell_type": "code",
   "execution_count": 44,
   "id": "1e78b12e",
   "metadata": {},
   "outputs": [
    {
     "data": {
      "image/png": "[encoded data removed]",
      "text/plain": [
       "<Figure size 640x480 with 1 Axes>"
      ]
     },
     "metadata": {},
     "output_type": "display_data"
    }
   ],
   "source": [
    "import matplotlib.pyplot as plt2\n",
    "plt2.barh(y_pos, accuracy, align='center', alpha=0.5,color='blue')\n",
    "plt2.yticks(y_pos, classifier)\n",
    "plt2.xlabel('Accuracy Score')\n",
    "plt2.title('Classification Performance')\n",
    "plt2.show()"
   ]
  },
  {
   "cell_type": "markdown",
   "id": "4c923564",
   "metadata": {},
   "source": [
    "# Precision"
   ]
  },
  {
   "cell_type": "code",
   "execution_count": 45,
   "id": "f100c687",
   "metadata": {},
   "outputs": [
    {
     "data": {
      "image/png": "[encoded data removed]",
      "text/plain": [
       "<Figure size 640x480 with 1 Axes>"
      ]
     },
     "metadata": {},
     "output_type": "display_data"
    }
   ],
   "source": [
    "plt2.barh(y_pos, precision, align='center', alpha=0.5,color='red')\n",
    "plt2.yticks(y_pos, classifier)\n",
    "plt2.xlabel('Precision Score')\n",
    "plt2.title('Classification Performance')\n",
    "plt2.show()"
   ]
  },
  {
   "cell_type": "markdown",
   "id": "c29089d2",
   "metadata": {},
   "source": [
    "# Recall"
   ]
  },
  {
   "cell_type": "code",
   "execution_count": 46,
   "id": "dbf6adb1",
   "metadata": {},
   "outputs": [
    {
     "data": {
      "image/png": "[encoded data removed]",
      "text/plain": [
       "<Figure size 640x480 with 1 Axes>"
      ]
     },
     "metadata": {},
     "output_type": "display_data"
    }
   ],
   "source": [
    "plt2.barh(y_pos, recall, align='center', alpha=0.5,color='yellow')\n",
    "plt2.yticks(y_pos, classifier)\n",
    "plt2.xlabel('Recall Score')\n",
    "plt2.title('Classification Performance')\n",
    "plt2.show()"
   ]
  },
  {
   "cell_type": "markdown",
   "id": "6f7f6943",
   "metadata": {},
   "source": [
    "# F1 Score"
   ]
  },
  {
   "cell_type": "code",
   "execution_count": 47,
   "id": "d8fb3d6a",
   "metadata": {},
   "outputs": [
    {
     "data": {
      "image/png": "[encoded data removed]",
      "text/plain": [
       "<Figure size 640x480 with 1 Axes>"
      ]
     },
     "metadata": {},
     "output_type": "display_data"
    }
   ],
   "source": [
    "plt2.barh(y_pos, f1score, align='center', alpha=0.5,color='green')\n",
    "plt2.yticks(y_pos, classifier)\n",
    "plt2.xlabel('F1 Score')\n",
    "plt2.title('Classification Performance')\n",
    "plt2.show()"
   ]
  },
  {
   "cell_type": "markdown",
   "id": "35e42415",
   "metadata": {},
   "source": [
    "# HeartBeats"
   ]
  },
  {
   "cell_type": "code",
   "execution_count": 48,
   "id": "bedc4832",
   "metadata": {},
   "outputs": [],
   "source": [
    "# Feature extraction function\n",
    "def extract_features(file_path):\n",
    "    y, sr = librosa.load(file_path, sr=None)  # Load audio\n",
    "    mfccs = np.mean(librosa.feature.mfcc(y=y, sr=sr, n_mfcc=13).T, axis=0)\n",
    "    chroma = np.mean(librosa.feature.chroma_stft(y=y, sr=sr).T, axis=0)\n",
    "    mel = np.mean(librosa.feature.melspectrogram(y=y, sr=sr).T, axis=0)\n",
    "    zcr = np.mean(librosa.feature.zero_crossing_rate(y).T, axis=0)\n",
    "    rms = np.mean(librosa.feature.rms(y=y).T, axis=0)\n",
    "\n",
    "    return np.hstack([mfccs, chroma, mel, zcr, rms])"
   ]
  },
  {
   "cell_type": "code",
   "execution_count": 49,
   "id": "c8c00325",
   "metadata": {},
   "outputs": [],
   "source": [
    "# Load dataset and extract features\n",
    "dataset_path = \"HeartBeats\""
   ]
  },
  {
   "cell_type": "code",
   "execution_count": 50,
   "id": "8964be8a",
   "metadata": {},
   "outputs": [],
   "source": [
    "labels = []\n",
    "features = []"
   ]
  },
  {
   "cell_type": "code",
   "execution_count": 51,
   "id": "e79f133a",
   "metadata": {},
   "outputs": [],
   "source": [
    "for label in os.listdir(dataset_path):\n",
    "    class_path = os.path.join(dataset_path, label)\n",
    "    if os.path.isdir(class_path):\n",
    "        for file in os.listdir(class_path):\n",
    "            file_path = os.path.join(class_path, file)\n",
    "            feature_vector = extract_features(file_path)\n",
    "            features.append(feature_vector)\n",
    "            labels.append(label)"
   ]
  },
  {
   "cell_type": "code",
   "execution_count": 52,
   "id": "a1d7e665",
   "metadata": {},
   "outputs": [],
   "source": [
    "# Convert to DataFrame\n",
    "df = pd.DataFrame(features)\n",
    "df['label'] = labels"
   ]
  },
  {
   "cell_type": "code",
   "execution_count": 53,
   "id": "b3732be9",
   "metadata": {},
   "outputs": [
    {
     "name": "stdout",
     "output_type": "stream",
     "text": [
      "<class 'pandas.core.frame.DataFrame'>\n",
      "RangeIndex: 3807 entries, 0 to 3806\n",
      "Columns: 156 entries, 0 to label\n",
      "dtypes: float64(155), object(1)\n",
      "memory usage: 4.5+ MB\n"
     ]
    }
   ],
   "source": [
    "df.info()"
   ]
  },
  {
   "cell_type": "code",
   "execution_count": 54,
   "id": "7c6a2593",
   "metadata": {},
   "outputs": [
    {
     "data": {
      "image/png": "[encoded data removed]",
      "text/plain": [
       "<Figure size 640x480 with 1 Axes>"
      ]
     },
     "metadata": {},
     "output_type": "display_data"
    }
   ],
   "source": [
    "sns.countplot(x='label',data=df, palette='hls')\n",
    "plt.show()\n",
    "#plt.savefig('count_plot') mal: the nodule malignancy, 0: benign, 1: malignant"
   ]
  },
  {
   "cell_type": "code",
   "execution_count": 55,
   "id": "63cc1a00",
   "metadata": {},
   "outputs": [],
   "source": [
    "encoder = LabelEncoder()\n",
    "df['label'] = encoder.fit_transform(df['label'])"
   ]
  },
  {
   "cell_type": "code",
   "execution_count": 56,
   "id": "2a3d59e7",
   "metadata": {},
   "outputs": [],
   "source": [
    "X = df.drop(columns=['label']).values\n",
    "y = df['label'].values"
   ]
  },
  {
   "cell_type": "code",
   "execution_count": 57,
   "id": "7219d747",
   "metadata": {},
   "outputs": [],
   "source": [
    "X_train, X_valid, y_train, y_valid = train_test_split(X, y, test_size = 0.20, random_state = 42)"
   ]
  },
  {
   "cell_type": "code",
   "execution_count": 58,
   "id": "2a239057",
   "metadata": {},
   "outputs": [],
   "source": [
    "ML_Model = []\n",
    "accuracy = []\n",
    "precision = []\n",
    "recall = []\n",
    "f1score = []\n",
    "\n",
    "#function to call for storing the results\n",
    "def storeResults(model, a,b,c,d):\n",
    "    ML_Model.append(model)\n",
    "    accuracy.append(round(a, 3))\n",
    "    precision.append(round(b, 3))\n",
    "    recall.append(round(c, 3))\n",
    "    f1score.append(round(d, 3))"
   ]
  },
  {
   "cell_type": "markdown",
   "id": "e3ef0e42",
   "metadata": {},
   "source": [
    "# SVM"
   ]
  },
  {
   "cell_type": "code",
   "execution_count": 59,
   "id": "abf0237c",
   "metadata": {},
   "outputs": [],
   "source": [
    "svc = svm.SVC(probability=True, C=1.0, kernel = \"rbf\", gamma=0.1)\n",
    "svc.fit(X_train, y_train)\n",
    "\n",
    "y_pred    = svc.predict(X_valid)\n",
    "\n",
    "svc_acc = accuracy_score(y_pred, y_valid)\n",
    "svc_prec = precision_score(y_pred, y_valid,average='weighted')\n",
    "svc_f1 = f1_score(y_pred, y_valid,average='weighted')\n",
    "svc_rec = recall_score(y_pred, y_valid,average='weighted')"
   ]
  },
  {
   "cell_type": "code",
   "execution_count": 60,
   "id": "5f0639dd",
   "metadata": {},
   "outputs": [],
   "source": [
    "storeResults('SVM',svc_acc,svc_prec,svc_rec,svc_f1)"
   ]
  },
  {
   "cell_type": "markdown",
   "id": "3d9aa53b",
   "metadata": {},
   "source": [
    "# XGBoost"
   ]
  },
  {
   "cell_type": "code",
   "execution_count": 61,
   "id": "e86f3f62",
   "metadata": {},
   "outputs": [],
   "source": [
    "bo_xgb = XGBClassifier()\n",
    "\n",
    "bo_xgb.fit(X_train, y_train)\n",
    "\n",
    "y_pred    = bo_xgb.predict(X_valid)\n",
    "\n",
    "xgb_acc = accuracy_score(y_pred, y_valid)\n",
    "xgb_prec = precision_score(y_pred, y_valid,average='weighted')\n",
    "xgb_f1 = f1_score(y_pred, y_valid,average='weighted')\n",
    "xgb_rec = recall_score(y_pred, y_valid,average='weighted')"
   ]
  },
  {
   "cell_type": "code",
   "execution_count": 62,
   "id": "cd69710b",
   "metadata": {},
   "outputs": [],
   "source": [
    "storeResults('XGBoost',xgb_acc,xgb_prec,xgb_rec,xgb_f1)"
   ]
  },
  {
   "cell_type": "markdown",
   "id": "b240880a",
   "metadata": {},
   "source": [
    "# MLP"
   ]
  },
  {
   "cell_type": "code",
   "execution_count": 63,
   "id": "6f5f3999",
   "metadata": {},
   "outputs": [],
   "source": [
    "mlp = MLPClassifier(hidden_layer_sizes=(150,100,50),\n",
    "                        max_iter = 300,activation = 'relu',\n",
    "                        solver = 'adam')\n",
    "mlp.fit(X_train, y_train)\n",
    "\n",
    "y_pred    = mlp.predict(X_valid)\n",
    "\n",
    "mlp_acc = accuracy_score(y_pred, y_valid)\n",
    "mlp_prec = precision_score(y_pred, y_valid,average='weighted')\n",
    "mlp_rec = recall_score(y_pred, y_valid,average='weighted')\n",
    "mlp_f1 = f1_score(y_pred, y_valid,average='weighted')"
   ]
  },
  {
   "cell_type": "code",
   "execution_count": 64,
   "id": "13ad4a63",
   "metadata": {},
   "outputs": [],
   "source": [
    "storeResults('MLP',mlp_acc,mlp_prec,mlp_rec,mlp_f1)"
   ]
  },
  {
   "cell_type": "markdown",
   "id": "1ce8b60f",
   "metadata": {},
   "source": [
    "# LightGBM"
   ]
  },
  {
   "cell_type": "code",
   "execution_count": 65,
   "id": "d251a100",
   "metadata": {},
   "outputs": [
    {
     "name": "stdout",
     "output_type": "stream",
     "text": [
      "[LightGBM] [Info] Number of positive: 817, number of negative: 2228\n",
      "[LightGBM] [Info] Auto-choosing col-wise multi-threading, the overhead of testing was 0.004731 seconds.\n",
      "You can set `force_col_wise=true` to remove the overhead.\n",
      "[LightGBM] [Info] Total Bins 39525\n",
      "[LightGBM] [Info] Number of data points in the train set: 3045, number of used features: 155\n",
      "[LightGBM] [Info] [binary:BoostFromScore]: pavg=0.268309 -> initscore=-1.003221\n",
      "[LightGBM] [Info] Start training from score -1.003221\n"
     ]
    }
   ],
   "source": [
    "clf = lgb.LGBMClassifier()\n",
    "\n",
    "clf.fit(X_train, y_train)\n",
    "\n",
    "y_pred = clf.predict(X_valid)\n",
    "\n",
    "lgb_acc = accuracy_score(y_pred, y_valid)\n",
    "lgb_prec = precision_score(y_pred, y_valid,average='weighted')\n",
    "lgb_f1 = f1_score(y_pred, y_valid,average='weighted')\n",
    "lgb_rec = recall_score(y_pred, y_valid,average='weighted')"
   ]
  },
  {
   "cell_type": "code",
   "execution_count": 66,
   "id": "8a0db98a",
   "metadata": {},
   "outputs": [],
   "source": [
    "storeResults('LightGBM',lgb_acc,lgb_prec,lgb_rec,lgb_f1)"
   ]
  },
  {
   "cell_type": "markdown",
   "id": "e60b729d",
   "metadata": {},
   "source": [
    "# Voting Classifier"
   ]
  },
  {
   "cell_type": "code",
   "execution_count": 67,
   "id": "b833bd01",
   "metadata": {},
   "outputs": [],
   "source": [
    "bdt = AdaBoostClassifier(\n",
    "    DecisionTreeClassifier(max_depth=1), algorithm=\"SAMME\", n_estimators=200\n",
    ")\n",
    "\n",
    "brf =  BaggingClassifier(MLPClassifier(random_state=1, max_iter=300))\n",
    "\n",
    "ext = VotingClassifier(estimators=[('BoostDT', bdt),('BaggingMLP', brf)], voting='soft')\n",
    "\n",
    "ext.fit(X_train, y_train)\n",
    "\n",
    "y_pred = ext.predict(X_valid)\n",
    "\n",
    "ext_acc = accuracy_score(y_pred, y_valid)\n",
    "ext_prec = precision_score(y_pred, y_valid,average='weighted')\n",
    "ext_rec = recall_score(y_pred, y_valid,average='weighted')\n",
    "ext_f1 = f1_score(y_pred, y_valid,average='weighted')"
   ]
  },
  {
   "cell_type": "code",
   "execution_count": 69,
   "id": "f32d1243",
   "metadata": {},
   "outputs": [],
   "source": [
    "storeResults('Voting Classifier',ext_acc,ext_prec,ext_rec,ext_f1)"
   ]
  },
  {
   "cell_type": "markdown",
   "id": "a3a36c41",
   "metadata": {},
   "source": [
    "# Comparison"
   ]
  },
  {
   "cell_type": "code",
   "execution_count": 70,
   "id": "c226ed88",
   "metadata": {},
   "outputs": [],
   "source": [
    "#creating dataframe\n",
    "result = pd.DataFrame({ 'ML Model' : ML_Model,\n",
    "                        'Accuracy' : accuracy,\n",
    "                       'Precision': precision,\n",
    "                       'Recall'   : recall, \n",
    "                       'F1_score' : f1score \n",
    "                      }) "
   ]
  },
  {
   "cell_type": "code",
   "execution_count": 71,
   "id": "65f2a341",
   "metadata": {},
   "outputs": [
    {
     "data": {
      "text/html": [
       "<div>\n",
       "<style scoped>\n",
       "    .dataframe tbody tr th:only-of-type {\n",
       "        vertical-align: middle;\n",
       "    }\n",
       "\n",
       "    .dataframe tbody tr th {\n",
       "        vertical-align: top;\n",
       "    }\n",
       "\n",
       "    .dataframe thead th {\n",
       "        text-align: right;\n",
       "    }\n",
       "</style>\n",
       "<table border=\"1\" class=\"dataframe\">\n",
       "  <thead>\n",
       "    <tr style=\"text-align: right;\">\n",
       "      <th></th>\n",
       "      <th>ML Model</th>\n",
       "      <th>Accuracy</th>\n",
       "      <th>Precision</th>\n",
       "      <th>Recall</th>\n",
       "      <th>F1_score</th>\n",
       "    </tr>\n",
       "  </thead>\n",
       "  <tbody>\n",
       "    <tr>\n",
       "      <th>0</th>\n",
       "      <td>SVM</td>\n",
       "      <td>0.770</td>\n",
       "      <td>1.000</td>\n",
       "      <td>0.770</td>\n",
       "      <td>0.870</td>\n",
       "    </tr>\n",
       "    <tr>\n",
       "      <th>1</th>\n",
       "      <td>XGBoost</td>\n",
       "      <td>0.911</td>\n",
       "      <td>0.916</td>\n",
       "      <td>0.911</td>\n",
       "      <td>0.913</td>\n",
       "    </tr>\n",
       "    <tr>\n",
       "      <th>2</th>\n",
       "      <td>MLP</td>\n",
       "      <td>0.852</td>\n",
       "      <td>0.903</td>\n",
       "      <td>0.852</td>\n",
       "      <td>0.868</td>\n",
       "    </tr>\n",
       "    <tr>\n",
       "      <th>3</th>\n",
       "      <td>LightGBM</td>\n",
       "      <td>0.907</td>\n",
       "      <td>0.914</td>\n",
       "      <td>0.907</td>\n",
       "      <td>0.909</td>\n",
       "    </tr>\n",
       "    <tr>\n",
       "      <th>4</th>\n",
       "      <td>Voting Classifier</td>\n",
       "      <td>0.865</td>\n",
       "      <td>0.909</td>\n",
       "      <td>0.865</td>\n",
       "      <td>0.878</td>\n",
       "    </tr>\n",
       "  </tbody>\n",
       "</table>\n",
       "</div>"
      ],
      "text/plain": [
       "            ML Model  Accuracy  Precision  Recall  F1_score\n",
       "0                SVM     0.770      1.000   0.770     0.870\n",
       "1            XGBoost     0.911      0.916   0.911     0.913\n",
       "2                MLP     0.852      0.903   0.852     0.868\n",
       "3           LightGBM     0.907      0.914   0.907     0.909\n",
       "4  Voting Classifier     0.865      0.909   0.865     0.878"
      ]
     },
     "execution_count": 71,
     "metadata": {},
     "output_type": "execute_result"
    }
   ],
   "source": [
    "result"
   ]
  },
  {
   "cell_type": "markdown",
   "id": "4a137d82",
   "metadata": {},
   "source": [
    "# Modelling"
   ]
  },
  {
   "cell_type": "code",
   "execution_count": 75,
   "id": "5f7d1ae5",
   "metadata": {},
   "outputs": [
    {
     "data": {
      "text/plain": [
       "['models/model_hs.sav']"
      ]
     },
     "execution_count": 75,
     "metadata": {},
     "output_type": "execute_result"
    }
   ],
   "source": [
    "import joblib\n",
    "filename = 'models/model_hs.sav'\n",
    "joblib.dump(bo_xgb, filename)"
   ]
  },
  {
   "cell_type": "code",
   "execution_count": 76,
   "id": "9939a5f5",
   "metadata": {},
   "outputs": [
    {
     "data": {
      "text/plain": [
       "['models/hs_encoder.pkl']"
      ]
     },
     "execution_count": 76,
     "metadata": {},
     "output_type": "execute_result"
    }
   ],
   "source": [
    "joblib.dump(encoder, \"models/hs_encoder.pkl\")"
   ]
  },
  {
   "cell_type": "markdown",
   "id": "d79c55ed",
   "metadata": {},
   "source": [
    "# Graph"
   ]
  },
  {
   "cell_type": "code",
   "execution_count": 77,
   "id": "e62925b7",
   "metadata": {},
   "outputs": [],
   "source": [
    "classifier = ML_Model\n",
    "y_pos = np.arange(len(classifier))"
   ]
  },
  {
   "cell_type": "markdown",
   "id": "14d016d6",
   "metadata": {},
   "source": [
    "# Accuracy"
   ]
  },
  {
   "cell_type": "code",
   "execution_count": 78,
   "id": "eeede89a",
   "metadata": {},
   "outputs": [
    {
     "data": {
      "image/png": "[encoded data removed]",
      "text/plain": [
       "<Figure size 640x480 with 1 Axes>"
      ]
     },
     "metadata": {},
     "output_type": "display_data"
    }
   ],
   "source": [
    "import matplotlib.pyplot as plt2\n",
    "plt2.barh(y_pos, accuracy, align='center', alpha=0.5,color='blue')\n",
    "plt2.yticks(y_pos, classifier)\n",
    "plt2.xlabel('Accuracy Score')\n",
    "plt2.title('Classification Performance')\n",
    "plt2.show()"
   ]
  },
  {
   "cell_type": "markdown",
   "id": "b92b8db5",
   "metadata": {},
   "source": [
    "# Precision"
   ]
  },
  {
   "cell_type": "code",
   "execution_count": 79,
   "id": "639f5250",
   "metadata": {},
   "outputs": [
    {
     "data": {
      "image/png": "[encoded data removed]",
      "text/plain": [
       "<Figure size 640x480 with 1 Axes>"
      ]
     },
     "metadata": {},
     "output_type": "display_data"
    }
   ],
   "source": [
    "plt2.barh(y_pos, precision, align='center', alpha=0.5,color='red')\n",
    "plt2.yticks(y_pos, classifier)\n",
    "plt2.xlabel('Precision Score')\n",
    "plt2.title('Classification Performance')\n",
    "plt2.show()"
   ]
  },
  {
   "cell_type": "markdown",
   "id": "43e36061",
   "metadata": {},
   "source": [
    "# Recall"
   ]
  },
  {
   "cell_type": "code",
   "execution_count": 80,
   "id": "d3d71ddc",
   "metadata": {},
   "outputs": [
    {
     "data": {
      "image/png": "[encoded data removed]",
      "text/plain": [
       "<Figure size 640x480 with 1 Axes>"
      ]
     },
     "metadata": {},
     "output_type": "display_data"
    }
   ],
   "source": [
    "plt2.barh(y_pos, recall, align='center', alpha=0.5,color='yellow')\n",
    "plt2.yticks(y_pos, classifier)\n",
    "plt2.xlabel('Recall Score')\n",
    "plt2.title('Classification Performance')\n",
    "plt2.show()"
   ]
  },
  {
   "cell_type": "markdown",
   "id": "8fd21f70",
   "metadata": {},
   "source": [
    "# F1 Score"
   ]
  },
  {
   "cell_type": "code",
   "execution_count": 81,
   "id": "9927b487",
   "metadata": {},
   "outputs": [
    {
     "data": {
      "image/png": "[encoded data removed]",
      "text/plain": [
       "<Figure size 640x480 with 1 Axes>"
      ]
     },
     "metadata": {},
     "output_type": "display_data"
    }
   ],
   "source": [
    "plt2.barh(y_pos, f1score, align='center', alpha=0.5,color='green')\n",
    "plt2.yticks(y_pos, classifier)\n",
    "plt2.xlabel('F1 Score')\n",
    "plt2.title('Classification Performance')\n",
    "plt2.show()"
   ]
  },
  {
   "cell_type": "markdown",
   "id": "4d46cb64",
   "metadata": {},
   "source": [
    "# Multi Heart Sound"
   ]
  },
  {
   "cell_type": "code",
   "execution_count": 82,
   "id": "db0fb4f5",
   "metadata": {},
   "outputs": [],
   "source": [
    "# Feature extraction function\n",
    "def extract_features(file_path):\n",
    "    y, sr = librosa.load(file_path, sr=None)  # Load audio\n",
    "    mfccs = np.mean(librosa.feature.mfcc(y=y, sr=sr, n_mfcc=13).T, axis=0)\n",
    "    chroma = np.mean(librosa.feature.chroma_stft(y=y, sr=sr).T, axis=0)\n",
    "    mel = np.mean(librosa.feature.melspectrogram(y=y, sr=sr).T, axis=0)\n",
    "    zcr = np.mean(librosa.feature.zero_crossing_rate(y).T, axis=0)\n",
    "    rms = np.mean(librosa.feature.rms(y=y).T, axis=0)\n",
    "\n",
    "    return np.hstack([mfccs, chroma, mel, zcr, rms])"
   ]
  },
  {
   "cell_type": "code",
   "execution_count": 95,
   "id": "f77fb0e7",
   "metadata": {},
   "outputs": [],
   "source": [
    "# Load dataset and extract features\n",
    "dataset_path = \"MultiHeartBeats\""
   ]
  },
  {
   "cell_type": "code",
   "execution_count": 96,
   "id": "373f0b50",
   "metadata": {},
   "outputs": [],
   "source": [
    "labels = []\n",
    "features = []"
   ]
  },
  {
   "cell_type": "code",
   "execution_count": 97,
   "id": "fabd1ac0",
   "metadata": {},
   "outputs": [],
   "source": [
    "for label in os.listdir(dataset_path):\n",
    "    class_path = os.path.join(dataset_path, label)\n",
    "    if os.path.isdir(class_path):\n",
    "        for file in os.listdir(class_path):\n",
    "            file_path = os.path.join(class_path, file)\n",
    "            feature_vector = extract_features(file_path)\n",
    "            features.append(feature_vector)\n",
    "            labels.append(label)"
   ]
  },
  {
   "cell_type": "code",
   "execution_count": 98,
   "id": "fce9bb7a",
   "metadata": {},
   "outputs": [],
   "source": [
    "# Convert to DataFrame\n",
    "df = pd.DataFrame(features)\n",
    "df['label'] = labels"
   ]
  },
  {
   "cell_type": "code",
   "execution_count": 99,
   "id": "e8fc91bc",
   "metadata": {},
   "outputs": [
    {
     "name": "stdout",
     "output_type": "stream",
     "text": [
      "<class 'pandas.core.frame.DataFrame'>\n",
      "RangeIndex: 2815 entries, 0 to 2814\n",
      "Columns: 156 entries, 0 to label\n",
      "dtypes: float64(155), object(1)\n",
      "memory usage: 3.4+ MB\n"
     ]
    }
   ],
   "source": [
    "df.info()"
   ]
  },
  {
   "cell_type": "code",
   "execution_count": 100,
   "id": "053080f8",
   "metadata": {},
   "outputs": [
    {
     "data": {
      "image/png": "[encoded data removed]",
      "text/plain": [
       "<Figure size 640x480 with 1 Axes>"
      ]
     },
     "metadata": {},
     "output_type": "display_data"
    }
   ],
   "source": [
    "sns.countplot(x='label',data=df, palette='hls')\n",
    "plt.show()\n",
    "#plt.savefig('count_plot') mal: the nodule malignancy, 0: benign, 1: malignant"
   ]
  },
  {
   "cell_type": "code",
   "execution_count": 101,
   "id": "f7e2d56f",
   "metadata": {},
   "outputs": [],
   "source": [
    "encoder = LabelEncoder()\n",
    "df['label'] = encoder.fit_transform(df['label'])"
   ]
  },
  {
   "cell_type": "code",
   "execution_count": 102,
   "id": "c11382bc",
   "metadata": {},
   "outputs": [],
   "source": [
    "X = df.drop(columns=['label']).values\n",
    "y = df['label'].values"
   ]
  },
  {
   "cell_type": "code",
   "execution_count": 103,
   "id": "481e8071",
   "metadata": {},
   "outputs": [],
   "source": [
    "X_train, X_valid, y_train, y_valid = train_test_split(X, y, test_size = 0.20, random_state = 42)"
   ]
  },
  {
   "cell_type": "code",
   "execution_count": 104,
   "id": "91c76341",
   "metadata": {},
   "outputs": [],
   "source": [
    "ML_Model = []\n",
    "accuracy = []\n",
    "precision = []\n",
    "recall = []\n",
    "f1score = []\n",
    "\n",
    "#function to call for storing the results\n",
    "def storeResults(model, a,b,c,d):\n",
    "    ML_Model.append(model)\n",
    "    accuracy.append(round(a, 3))\n",
    "    precision.append(round(b, 3))\n",
    "    recall.append(round(c, 3))\n",
    "    f1score.append(round(d, 3))"
   ]
  },
  {
   "cell_type": "markdown",
   "id": "868e03ac",
   "metadata": {},
   "source": [
    "# SVM"
   ]
  },
  {
   "cell_type": "code",
   "execution_count": 105,
   "id": "95d1d8b5",
   "metadata": {},
   "outputs": [],
   "source": [
    "svc = svm.SVC(probability=True, C=1.0, kernel = \"rbf\", gamma=0.1)\n",
    "svc.fit(X_train, y_train)\n",
    "\n",
    "y_pred    = svc.predict(X_valid)\n",
    "\n",
    "svc_acc = accuracy_score(y_pred, y_valid)\n",
    "svc_prec = precision_score(y_pred, y_valid,average='weighted')\n",
    "svc_f1 = f1_score(y_pred, y_valid,average='weighted')\n",
    "svc_rec = recall_score(y_pred, y_valid,average='weighted')"
   ]
  },
  {
   "cell_type": "code",
   "execution_count": 106,
   "id": "87cf240e",
   "metadata": {},
   "outputs": [],
   "source": [
    "storeResults('SVM',svc_acc,svc_prec,svc_rec,svc_f1)"
   ]
  },
  {
   "cell_type": "markdown",
   "id": "94c34bfe",
   "metadata": {},
   "source": [
    "# XGBoost"
   ]
  },
  {
   "cell_type": "code",
   "execution_count": 107,
   "id": "40686921",
   "metadata": {},
   "outputs": [],
   "source": [
    "bo_xgb = XGBClassifier()\n",
    "\n",
    "bo_xgb.fit(X_train, y_train)\n",
    "\n",
    "y_pred    = bo_xgb.predict(X_valid)\n",
    "\n",
    "xgb_acc = accuracy_score(y_pred, y_valid)\n",
    "xgb_prec = precision_score(y_pred, y_valid,average='weighted')\n",
    "xgb_f1 = f1_score(y_pred, y_valid,average='weighted')\n",
    "xgb_rec = recall_score(y_pred, y_valid,average='weighted')"
   ]
  },
  {
   "cell_type": "code",
   "execution_count": 108,
   "id": "e6dca693",
   "metadata": {},
   "outputs": [],
   "source": [
    "storeResults('XGBoost',xgb_acc,xgb_prec,xgb_rec,xgb_f1)"
   ]
  },
  {
   "cell_type": "markdown",
   "id": "7693de5d",
   "metadata": {},
   "source": [
    "# MLP"
   ]
  },
  {
   "cell_type": "code",
   "execution_count": 109,
   "id": "e3ba672c",
   "metadata": {},
   "outputs": [],
   "source": [
    "mlp = MLPClassifier(hidden_layer_sizes=(150,100,50),\n",
    "                        max_iter = 300,activation = 'relu',\n",
    "                        solver = 'adam')\n",
    "mlp.fit(X_train, y_train)\n",
    "\n",
    "y_pred    = mlp.predict(X_valid)\n",
    "\n",
    "mlp_acc = accuracy_score(y_pred, y_valid)\n",
    "mlp_prec = precision_score(y_pred, y_valid,average='weighted')\n",
    "mlp_rec = recall_score(y_pred, y_valid,average='weighted')\n",
    "mlp_f1 = f1_score(y_pred, y_valid,average='weighted')"
   ]
  },
  {
   "cell_type": "code",
   "execution_count": 110,
   "id": "9a4ec09c",
   "metadata": {},
   "outputs": [],
   "source": [
    "storeResults('MLP',mlp_acc,mlp_prec,mlp_rec,mlp_f1)"
   ]
  },
  {
   "cell_type": "markdown",
   "id": "21135461",
   "metadata": {},
   "source": [
    "# LightGBM"
   ]
  },
  {
   "cell_type": "code",
   "execution_count": 111,
   "id": "b0444497",
   "metadata": {},
   "outputs": [
    {
     "name": "stdout",
     "output_type": "stream",
     "text": [
      "[LightGBM] [Info] Auto-choosing col-wise multi-threading, the overhead of testing was 0.004577 seconds.\n",
      "You can set `force_col_wise=true` to remove the overhead.\n",
      "[LightGBM] [Info] Total Bins 39525\n",
      "[LightGBM] [Info] Number of data points in the train set: 2252, number of used features: 155\n",
      "[LightGBM] [Info] Start training from score -2.515567\n",
      "[LightGBM] [Info] Start training from score -2.446574\n",
      "[LightGBM] [Info] Start training from score -0.543319\n",
      "[LightGBM] [Info] Start training from score -2.081219\n",
      "[LightGBM] [Info] Start training from score -2.063582\n"
     ]
    }
   ],
   "source": [
    "clf = lgb.LGBMClassifier()\n",
    "\n",
    "clf.fit(X_train, y_train)\n",
    "\n",
    "y_pred = clf.predict(X_valid)\n",
    "\n",
    "lgb_acc = accuracy_score(y_pred, y_valid)\n",
    "lgb_prec = precision_score(y_pred, y_valid,average='weighted')\n",
    "lgb_f1 = f1_score(y_pred, y_valid,average='weighted')\n",
    "lgb_rec = recall_score(y_pred, y_valid,average='weighted')"
   ]
  },
  {
   "cell_type": "code",
   "execution_count": 112,
   "id": "b588dc16",
   "metadata": {},
   "outputs": [],
   "source": [
    "storeResults('LightGBM',lgb_acc,lgb_prec,lgb_rec,lgb_f1)"
   ]
  },
  {
   "cell_type": "markdown",
   "id": "392c0922",
   "metadata": {},
   "source": [
    "# Voting Classifier"
   ]
  },
  {
   "cell_type": "code",
   "execution_count": 113,
   "id": "c1dff4bd",
   "metadata": {},
   "outputs": [],
   "source": [
    "bdt = AdaBoostClassifier(\n",
    "    DecisionTreeClassifier(max_depth=1), algorithm=\"SAMME\", n_estimators=200\n",
    ")\n",
    "\n",
    "brf =  BaggingClassifier(MLPClassifier(random_state=1, max_iter=300))\n",
    "\n",
    "ext = VotingClassifier(estimators=[('BoostDT', bdt),('BaggingMLP', brf)], voting='soft')\n",
    "\n",
    "ext.fit(X_train, y_train)\n",
    "\n",
    "y_pred = ext.predict(X_valid)\n",
    "\n",
    "ext_acc = accuracy_score(y_pred, y_valid)\n",
    "ext_prec = precision_score(y_pred, y_valid,average='weighted')\n",
    "ext_rec = recall_score(y_pred, y_valid,average='weighted')\n",
    "ext_f1 = f1_score(y_pred, y_valid,average='weighted')"
   ]
  },
  {
   "cell_type": "code",
   "execution_count": 114,
   "id": "5c902995",
   "metadata": {},
   "outputs": [],
   "source": [
    "storeResults('Voting Classifier',ext_acc,ext_prec,ext_rec,ext_f1)"
   ]
  },
  {
   "cell_type": "markdown",
   "id": "8d6c463e",
   "metadata": {},
   "source": [
    "# Comparison"
   ]
  },
  {
   "cell_type": "code",
   "execution_count": 115,
   "id": "3ca7ecf1",
   "metadata": {},
   "outputs": [],
   "source": [
    "#creating dataframe\n",
    "result = pd.DataFrame({ 'ML Model' : ML_Model,\n",
    "                        'Accuracy' : accuracy,\n",
    "                       'Precision': precision,\n",
    "                       'Recall'   : recall, \n",
    "                       'F1_score' : f1score \n",
    "                      }) "
   ]
  },
  {
   "cell_type": "code",
   "execution_count": 116,
   "id": "f0b8ff48",
   "metadata": {},
   "outputs": [
    {
     "data": {
      "text/html": [
       "<div>\n",
       "<style scoped>\n",
       "    .dataframe tbody tr th:only-of-type {\n",
       "        vertical-align: middle;\n",
       "    }\n",
       "\n",
       "    .dataframe tbody tr th {\n",
       "        vertical-align: top;\n",
       "    }\n",
       "\n",
       "    .dataframe thead th {\n",
       "        text-align: right;\n",
       "    }\n",
       "</style>\n",
       "<table border=\"1\" class=\"dataframe\">\n",
       "  <thead>\n",
       "    <tr style=\"text-align: right;\">\n",
       "      <th></th>\n",
       "      <th>ML Model</th>\n",
       "      <th>Accuracy</th>\n",
       "      <th>Precision</th>\n",
       "      <th>Recall</th>\n",
       "      <th>F1_score</th>\n",
       "    </tr>\n",
       "  </thead>\n",
       "  <tbody>\n",
       "    <tr>\n",
       "      <th>0</th>\n",
       "      <td>SVM</td>\n",
       "      <td>0.586</td>\n",
       "      <td>0.989</td>\n",
       "      <td>0.586</td>\n",
       "      <td>0.728</td>\n",
       "    </tr>\n",
       "    <tr>\n",
       "      <th>1</th>\n",
       "      <td>XGBoost</td>\n",
       "      <td>0.719</td>\n",
       "      <td>0.851</td>\n",
       "      <td>0.719</td>\n",
       "      <td>0.757</td>\n",
       "    </tr>\n",
       "    <tr>\n",
       "      <th>2</th>\n",
       "      <td>MLP</td>\n",
       "      <td>0.508</td>\n",
       "      <td>0.614</td>\n",
       "      <td>0.508</td>\n",
       "      <td>0.551</td>\n",
       "    </tr>\n",
       "    <tr>\n",
       "      <th>3</th>\n",
       "      <td>LightGBM</td>\n",
       "      <td>0.726</td>\n",
       "      <td>0.856</td>\n",
       "      <td>0.726</td>\n",
       "      <td>0.759</td>\n",
       "    </tr>\n",
       "    <tr>\n",
       "      <th>4</th>\n",
       "      <td>Voting Classifier</td>\n",
       "      <td>0.599</td>\n",
       "      <td>0.799</td>\n",
       "      <td>0.599</td>\n",
       "      <td>0.664</td>\n",
       "    </tr>\n",
       "  </tbody>\n",
       "</table>\n",
       "</div>"
      ],
      "text/plain": [
       "            ML Model  Accuracy  Precision  Recall  F1_score\n",
       "0                SVM     0.586      0.989   0.586     0.728\n",
       "1            XGBoost     0.719      0.851   0.719     0.757\n",
       "2                MLP     0.508      0.614   0.508     0.551\n",
       "3           LightGBM     0.726      0.856   0.726     0.759\n",
       "4  Voting Classifier     0.599      0.799   0.599     0.664"
      ]
     },
     "execution_count": 116,
     "metadata": {},
     "output_type": "execute_result"
    }
   ],
   "source": [
    "result"
   ]
  },
  {
   "cell_type": "markdown",
   "id": "53d5fa6c",
   "metadata": {},
   "source": [
    "# Modelling"
   ]
  },
  {
   "cell_type": "code",
   "execution_count": 119,
   "id": "abe08c22",
   "metadata": {},
   "outputs": [
    {
     "data": {
      "text/plain": [
       "['models/model_multi.sav']"
      ]
     },
     "execution_count": 119,
     "metadata": {},
     "output_type": "execute_result"
    }
   ],
   "source": [
    "import joblib\n",
    "filename = 'models/model_multi.sav'\n",
    "joblib.dump(clf, filename)"
   ]
  },
  {
   "cell_type": "code",
   "execution_count": 120,
   "id": "e59c93e9",
   "metadata": {},
   "outputs": [
    {
     "data": {
      "text/plain": [
       "['models/multi_encoder.pkl']"
      ]
     },
     "execution_count": 120,
     "metadata": {},
     "output_type": "execute_result"
    }
   ],
   "source": [
    "joblib.dump(encoder, \"models/multi_encoder.pkl\")"
   ]
  },
  {
   "cell_type": "markdown",
   "id": "a3cf9d55",
   "metadata": {},
   "source": [
    "# Graph"
   ]
  },
  {
   "cell_type": "code",
   "execution_count": 121,
   "id": "0966d5cf",
   "metadata": {},
   "outputs": [],
   "source": [
    "classifier = ML_Model\n",
    "y_pos = np.arange(len(classifier))"
   ]
  },
  {
   "cell_type": "markdown",
   "id": "75347cf7",
   "metadata": {},
   "source": [
    "# Accuracy"
   ]
  },
  {
   "cell_type": "code",
   "execution_count": 122,
   "id": "cd7bdd50",
   "metadata": {},
   "outputs": [
    {
     "data": {
      "image/png": "[encoded data removed]",
      "text/plain": [
       "<Figure size 640x480 with 1 Axes>"
      ]
     },
     "metadata": {},
     "output_type": "display_data"
    }
   ],
   "source": [
    "import matplotlib.pyplot as plt2\n",
    "plt2.barh(y_pos, accuracy, align='center', alpha=0.5,color='blue')\n",
    "plt2.yticks(y_pos, classifier)\n",
    "plt2.xlabel('Accuracy Score')\n",
    "plt2.title('Classification Performance')\n",
    "plt2.show()"
   ]
  },
  {
   "cell_type": "markdown",
   "id": "143d0f71",
   "metadata": {},
   "source": [
    "# Precision"
   ]
  },
  {
   "cell_type": "code",
   "execution_count": 123,
   "id": "b8691665",
   "metadata": {},
   "outputs": [
    {
     "data": {
      "image/png": "[encoded data removed]",
      "text/plain": [
       "<Figure size 640x480 with 1 Axes>"
      ]
     },
     "metadata": {},
     "output_type": "display_data"
    }
   ],
   "source": [
    "plt2.barh(y_pos, precision, align='center', alpha=0.5,color='red')\n",
    "plt2.yticks(y_pos, classifier)\n",
    "plt2.xlabel('Precision Score')\n",
    "plt2.title('Classification Performance')\n",
    "plt2.show()"
   ]
  },
  {
   "cell_type": "markdown",
   "id": "e4a3905e",
   "metadata": {},
   "source": [
    "# Recall"
   ]
  },
  {
   "cell_type": "code",
   "execution_count": 124,
   "id": "b1d7cf98",
   "metadata": {},
   "outputs": [
    {
     "data": {
      "image/png": "[encoded data removed]",
      "text/plain": [
       "<Figure size 640x480 with 1 Axes>"
      ]
     },
     "metadata": {},
     "output_type": "display_data"
    }
   ],
   "source": [
    "plt2.barh(y_pos, recall, align='center', alpha=0.5,color='yellow')\n",
    "plt2.yticks(y_pos, classifier)\n",
    "plt2.xlabel('Recall Score')\n",
    "plt2.title('Classification Performance')\n",
    "plt2.show()"
   ]
  },
  {
   "cell_type": "markdown",
   "id": "866f2dfc",
   "metadata": {},
   "source": [
    "# F1 Score"
   ]
  },
  {
   "cell_type": "code",
   "execution_count": 125,
   "id": "17bc3619",
   "metadata": {},
   "outputs": [
    {
     "data": {
      "image/png": "[encoded data removed]",
      "text/plain": [
       "<Figure size 640x480 with 1 Axes>"
      ]
     },
     "metadata": {},
     "output_type": "display_data"
    }
   ],
   "source": [
    "plt2.barh(y_pos, f1score, align='center', alpha=0.5,color='green')\n",
    "plt2.yticks(y_pos, classifier)\n",
    "plt2.xlabel('F1 Score')\n",
    "plt2.title('Classification Performance')\n",
    "plt2.show()"
   ]
  },
  {
   "cell_type": "code",
   "execution_count": null,
   "id": "a9d456df",
   "metadata": {},
   "outputs": [],
   "source": []
  },
  {
   "cell_type": "code",
   "execution_count": 166,
   "id": "f24b9405",
   "metadata": {},
   "outputs": [],
   "source": [
    "file_path = \"C://Users//TruProjects//Desktop//Truprojects//projects//Mar25//heartdisease//Dataset//Other//Other (4).wav\""
   ]
  },
  {
   "cell_type": "code",
   "execution_count": 173,
   "id": "beb0f318",
   "metadata": {},
   "outputs": [
    {
     "name": "stdout",
     "output_type": "stream",
     "text": [
      "Extracted Features Shape: (155,)\n"
     ]
    }
   ],
   "source": [
    "features = extract_features(file_path)\n",
    "print(f\"Extracted Features Shape: {features.shape}\")  # Debugging"
   ]
  },
  {
   "cell_type": "code",
   "execution_count": 168,
   "id": "a738671e",
   "metadata": {},
   "outputs": [],
   "source": [
    "model1 = joblib.load(\"models/model_beats.sav\")\n",
    "model2 = joblib.load(\"models/model_hs.sav\")\n",
    "model3 = joblib.load(\"models/model_multi.sav\")"
   ]
  },
  {
   "cell_type": "code",
   "execution_count": 174,
   "id": "61d569f6",
   "metadata": {},
   "outputs": [],
   "source": [
    "features = features.reshape(1, -1)\n",
    "prediction1 = model1.predict(features)[0]"
   ]
  },
  {
   "cell_type": "code",
   "execution_count": 175,
   "id": "f7c33f0f",
   "metadata": {},
   "outputs": [
    {
     "name": "stdout",
     "output_type": "stream",
     "text": [
      "1\n"
     ]
    }
   ],
   "source": [
    "print(prediction1)"
   ]
  },
  {
   "cell_type": "code",
   "execution_count": 177,
   "id": "4a5b88a3",
   "metadata": {},
   "outputs": [
    {
     "name": "stdout",
     "output_type": "stream",
     "text": [
      "1\n"
     ]
    }
   ],
   "source": [
    "if prediction1 == 0:\n",
    "    prediction2 = model2.predict(features)[0]\n",
    "    print(prediction2)\n",
    "    if prediction2 == 0:\n",
    "        prediction3 = model3.predict(features)[0]\n",
    "        print(prediction3)\n",
    "    else:\n",
    "        print(prediction2)\n",
    "else:\n",
    "    print(prediction1)"
   ]
  },
  {
   "cell_type": "code",
   "execution_count": null,
   "id": "0f2d59bd",
   "metadata": {},
   "outputs": [],
   "source": []
  }
 ],
 "metadata": {
  "kernelspec": {
   "display_name": "Python 3 (ipykernel)",
   "language": "python",
   "name": "python3"
  },
  "language_info": {
   "codemirror_mode": {
    "name": "ipython",
    "version": 3
   },
   "file_extension": ".py",
   "mimetype": "text/x-python",
   "name": "python",
   "nbconvert_exporter": "python",
   "pygments_lexer": "ipython3",
   "version": "3.10.9"
  }
 },
 "nbformat": 4,
 "nbformat_minor": 5
}
